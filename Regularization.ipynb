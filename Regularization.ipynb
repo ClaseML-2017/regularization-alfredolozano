{
 "cells": [
  {
   "cell_type": "code",
   "execution_count": 7,
   "metadata": {
    "collapsed": false
   },
   "outputs": [],
   "source": [
    "import random as rnd\n",
    "import pandas as pd\n",
    "\n",
    "\n",
    "linear_DB = pd.read_csv(\"linear_reg/regLinPoli.csv\")\n",
    "linear_DB\n",
    "\n",
    "rnd.seed(83117)\n",
    "\n",
    "linear_DB = linear_DB.sample(frac=1)\n",
    "size = int(len(linear_DB) * .75)\n",
    "train = linear_DB[0:size]\n",
    "test = linear_DB[size:len(linear_DB)]"
   ]
  },
  {
   "cell_type": "code",
   "execution_count": 8,
   "metadata": {
    "collapsed": false
   },
   "outputs": [
    {
     "ename": "NameError",
     "evalue": "name 'preprocessing' is not defined",
     "output_type": "error",
     "traceback": [
      "\u001b[0;31m---------------------------------------------------------------------------\u001b[0m",
      "\u001b[0;31mNameError\u001b[0m                                 Traceback (most recent call last)",
      "\u001b[0;32m<ipython-input-8-dd79cfb9f2a6>\u001b[0m in \u001b[0;36m<module>\u001b[0;34m()\u001b[0m\n\u001b[0;32m----> 1\u001b[0;31m \u001b[0mscaler_x\u001b[0m \u001b[0;34m=\u001b[0m \u001b[0mpreprocessing\u001b[0m\u001b[0;34m.\u001b[0m\u001b[0mStandardScaler\u001b[0m\u001b[0;34m(\u001b[0m\u001b[0;34m)\u001b[0m\u001b[0;34m.\u001b[0m\u001b[0mfit\u001b[0m\u001b[0;34m(\u001b[0m\u001b[0mtest\u001b[0m\u001b[0;34m[\u001b[0m\u001b[0mtest\u001b[0m\u001b[0;34m.\u001b[0m\u001b[0mcolumns\u001b[0m\u001b[0;34m[\u001b[0m\u001b[0;36m0\u001b[0m\u001b[0;34m:\u001b[0m\u001b[0;34m-\u001b[0m\u001b[0;36m1\u001b[0m\u001b[0;34m]\u001b[0m\u001b[0;34m]\u001b[0m\u001b[0;34m)\u001b[0m\u001b[0;34m\u001b[0m\u001b[0m\n\u001b[0m\u001b[1;32m      2\u001b[0m \u001b[0;34m\u001b[0m\u001b[0m\n\u001b[1;32m      3\u001b[0m \u001b[0mtrain_scaledX\u001b[0m \u001b[0;34m=\u001b[0m \u001b[0mscaler_x\u001b[0m\u001b[0;34m.\u001b[0m\u001b[0mtransform\u001b[0m\u001b[0;34m(\u001b[0m\u001b[0mtest\u001b[0m\u001b[0;34m[\u001b[0m\u001b[0mtest\u001b[0m\u001b[0;34m.\u001b[0m\u001b[0mcolumns\u001b[0m\u001b[0;34m[\u001b[0m\u001b[0;36m0\u001b[0m\u001b[0;34m:\u001b[0m\u001b[0;34m-\u001b[0m\u001b[0;36m1\u001b[0m\u001b[0;34m]\u001b[0m\u001b[0;34m]\u001b[0m\u001b[0;34m)\u001b[0m\u001b[0;34m\u001b[0m\u001b[0m\n\u001b[1;32m      4\u001b[0m \u001b[0mtest_scaledX\u001b[0m \u001b[0;34m=\u001b[0m \u001b[0mscaler_x\u001b[0m\u001b[0;34m.\u001b[0m\u001b[0mtransform\u001b[0m\u001b[0;34m(\u001b[0m\u001b[0mtest\u001b[0m\u001b[0;34m[\u001b[0m\u001b[0mtest\u001b[0m\u001b[0;34m.\u001b[0m\u001b[0mcolumns\u001b[0m\u001b[0;34m[\u001b[0m\u001b[0;36m0\u001b[0m\u001b[0;34m:\u001b[0m\u001b[0;34m-\u001b[0m\u001b[0;36m1\u001b[0m\u001b[0;34m]\u001b[0m\u001b[0;34m]\u001b[0m\u001b[0;34m)\u001b[0m\u001b[0;34m\u001b[0m\u001b[0m\n\u001b[1;32m      5\u001b[0m \u001b[0;34m\u001b[0m\u001b[0m\n",
      "\u001b[0;31mNameError\u001b[0m: name 'preprocessing' is not defined"
     ]
    }
   ],
   "source": [
    "scaler_x = preprocessing.StandardScaler().fit(test[test.columns[0:-1]])\n",
    "\n",
    "train_scaledX = scaler_x.transform(test[test.columns[0:-1]])\n",
    "test_scaledX = scaler_x.transform(test[test.columns[0:-1]])\n",
    "\n",
    "train_scaledy = (train['y'] - np.mean(train['y'])) / np.std(train['y'])\n",
    "test_scaledy = (test['y'] - np.mean(train['y'])) / np.std(train['y'])"
   ]
  },
  {
   "cell_type": "code",
   "execution_count": 4,
   "metadata": {
    "collapsed": true
   },
   "outputs": [],
   "source": [
    "def SGDRidge(x, y, eta, lmbda): \n",
    "    # x must be a numpy.ndarray\n",
    "    \n",
    "    x_0 = 1\n",
    "    w_0 = 1\n",
    "    \n",
    "    w_s = np.ones(len(x[0]))\n",
    "    \n",
    "    for i in range(100*len(x[0])):\n",
    "        #import pdb; pdb.set_trace()\n",
    "\n",
    "        i = i % len(x[0])\n",
    "        x_i = x[i]\n",
    "        y_i = y.iloc[i]\n",
    "        V_x = w_s.dot(x_i) + w_0\n",
    "        \n",
    "        w_0 = w_0 + eta * (y_i - V_x)\n",
    "        w_s = w_s + ((eta * (y_i - V_x)) * x_i) - (lmbda * w_s)\n",
    "        \n",
    "        \n",
    "    return np.insert(w_s,0,w_0) "
   ]
  },
  {
   "cell_type": "markdown",
   "metadata": {},
   "source": [
    "Error for  λ=0"
   ]
  },
  {
   "cell_type": "code",
   "execution_count": 5,
   "metadata": {
    "collapsed": false
   },
   "outputs": [
    {
     "ename": "NameError",
     "evalue": "name 'train_scaledX' is not defined",
     "output_type": "error",
     "traceback": [
      "\u001b[0;31m---------------------------------------------------------------------------\u001b[0m",
      "\u001b[0;31mNameError\u001b[0m                                 Traceback (most recent call last)",
      "\u001b[0;32m<ipython-input-5-6298d0448649>\u001b[0m in \u001b[0;36m<module>\u001b[0;34m()\u001b[0m\n\u001b[0;32m----> 1\u001b[0;31m \u001b[0mIMS_clf\u001b[0m \u001b[0;34m=\u001b[0m \u001b[0mSGDRidge\u001b[0m\u001b[0;34m(\u001b[0m\u001b[0mtrain_scaledX\u001b[0m\u001b[0;34m,\u001b[0m \u001b[0mtrain_scaledy\u001b[0m\u001b[0;34m,\u001b[0m \u001b[0;36m0.1\u001b[0m\u001b[0;34m,\u001b[0m \u001b[0;36m0\u001b[0m\u001b[0;34m)\u001b[0m\u001b[0;34m\u001b[0m\u001b[0m\n\u001b[0m\u001b[1;32m      2\u001b[0m \u001b[0;32mprint\u001b[0m \u001b[0mIMS_clf\u001b[0m\u001b[0;34m\u001b[0m\u001b[0m\n\u001b[1;32m      3\u001b[0m \u001b[0;32mprint\u001b[0m \u001b[0mMSE\u001b[0m\u001b[0;34m(\u001b[0m\u001b[0mIMS_clf\u001b[0m\u001b[0;34m,\u001b[0m \u001b[0mtest_scaledX\u001b[0m\u001b[0;34m,\u001b[0m \u001b[0mtest_scaledy\u001b[0m\u001b[0;34m)\u001b[0m\u001b[0;34m\u001b[0m\u001b[0m\n",
      "\u001b[0;31mNameError\u001b[0m: name 'train_scaledX' is not defined"
     ]
    }
   ],
   "source": [
    "IMS_clf = SGDRidge(train_scaledX, train_scaledy, 0.1, 0)\n",
    "print IMS_clf\n",
    "print MSE(IMS_clf, test_scaledX, test_scaledy)"
   ]
  },
  {
   "cell_type": "code",
   "execution_count": null,
   "metadata": {
    "collapsed": true
   },
   "outputs": [],
   "source": []
  }
 ],
 "metadata": {
  "kernelspec": {
   "display_name": "Python 2",
   "language": "python",
   "name": "python2"
  },
  "language_info": {
   "codemirror_mode": {
    "name": "ipython",
    "version": 2
   },
   "file_extension": ".py",
   "mimetype": "text/x-python",
   "name": "python",
   "nbconvert_exporter": "python",
   "pygments_lexer": "ipython2",
   "version": "2.7.10"
  }
 },
 "nbformat": 4,
 "nbformat_minor": 2
}
